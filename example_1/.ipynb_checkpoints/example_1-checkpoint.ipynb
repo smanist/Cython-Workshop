{
 "cells": [
  {
   "cell_type": "code",
   "execution_count": 1,
   "metadata": {
    "collapsed": false
   },
   "outputs": [],
   "source": [
    "# Import support for Cython\n",
    "import setuptools\n",
    "%load_ext Cython"
   ]
  },
  {
   "cell_type": "markdown",
   "metadata": {},
   "source": [
    "## A Simple Example: Prime Number Search"
   ]
  },
  {
   "cell_type": "markdown",
   "metadata": {},
   "source": [
    "### A pure Python version"
   ]
  },
  {
   "cell_type": "code",
   "execution_count": 2,
   "metadata": {
    "collapsed": false
   },
   "outputs": [],
   "source": [
    "def prime1(Range):\n",
    "    \"\"\"\n",
    "    Find the first few primes - Pure Python version\n",
    "    \"\"\"\n",
    "    # Set upper limit to 1000\n",
    "    Range  = min(Range, 1000)\n",
    "    # Initialize working variables\n",
    "    primes = [0]*Range\n",
    "    nPrime = 0\n",
    "    number = 2\n",
    "    while nPrime < Range:\n",
    "        # Check if *number* is a prime\n",
    "        i = 0\n",
    "        while i < nPrime and number % primes[i] != 0:\n",
    "            i = i + 1\n",
    "        # Collect a prime number\n",
    "        if i == nPrime:\n",
    "            primes[nPrime] = number\n",
    "            nPrime = nPrime + 1\n",
    "        number = number + 1\n",
    "    return primes"
   ]
  },
  {
   "cell_type": "code",
   "execution_count": 3,
   "metadata": {
    "collapsed": false
   },
   "outputs": [
    {
     "data": {
      "text/plain": [
       "[2, 3, 5, 7, 11, 13, 17, 19, 23, 29]"
      ]
     },
     "execution_count": 3,
     "metadata": {},
     "output_type": "execute_result"
    }
   ],
   "source": [
    "prime1(10)"
   ]
  },
  {
   "cell_type": "markdown",
   "metadata": {},
   "source": [
    "### A Cythonized Python version"
   ]
  },
  {
   "cell_type": "code",
   "execution_count": 4,
   "metadata": {
    "collapsed": false
   },
   "outputs": [],
   "source": [
    "%%cython\n",
    "def prime2(int Range):\n",
    "    \"\"\"\n",
    "    Find the first few primes - Cythonized Python version\n",
    "    \"\"\"\n",
    "    # Set upper limit to 1000\n",
    "    Range  = min(Range, 1000)\n",
    "    # Initialize working variables\n",
    "    primes = [0]*Range\n",
    "    nPrime = 0\n",
    "    number = 2\n",
    "    while nPrime < Range:\n",
    "        # Check if *number* is a prime\n",
    "        i = 0\n",
    "        while i < nPrime and number % primes[i] != 0:\n",
    "            i = i + 1\n",
    "        # Collect a prime number\n",
    "        if i == nPrime:\n",
    "            primes[nPrime] = number\n",
    "            nPrime = nPrime + 1\n",
    "        number = number + 1\n",
    "    return primes"
   ]
  },
  {
   "cell_type": "code",
   "execution_count": 5,
   "metadata": {
    "collapsed": false,
    "scrolled": true
   },
   "outputs": [
    {
     "data": {
      "text/plain": [
       "[2, 3, 5, 7, 11, 13, 17, 19, 23, 29]"
      ]
     },
     "execution_count": 5,
     "metadata": {},
     "output_type": "execute_result"
    }
   ],
   "source": [
    "prime2(10)"
   ]
  },
  {
   "cell_type": "markdown",
   "metadata": {},
   "source": [
    "### A Cython version"
   ]
  },
  {
   "cell_type": "code",
   "execution_count": 6,
   "metadata": {
    "collapsed": false
   },
   "outputs": [],
   "source": [
    "%%cython\n",
    "def prime3(int Range):\n",
    "    \"\"\"\n",
    "    Find the first few primes - Cython version\n",
    "    \"\"\"\n",
    "    # Set upper limit to 1000\n",
    "    Range  = min(Range, 1000)\n",
    "    # Initialize working variables\n",
    "    primes = [0]*Range\n",
    "    cdef int work[1000]\n",
    "    cdef int nPrime = 0\n",
    "    cdef int number = 2\n",
    "    cdef int i\n",
    "    while nPrime < Range:\n",
    "        # Check if *number* is a prime\n",
    "        i = 0\n",
    "        while i < nPrime and number % work[i] != 0:\n",
    "            i = i + 1\n",
    "        # Collect a prime number\n",
    "        if i == nPrime:\n",
    "            primes[nPrime] = number\n",
    "            work[nPrime] = number\n",
    "            nPrime = nPrime + 1\n",
    "        number = number + 1\n",
    "    return primes"
   ]
  },
  {
   "cell_type": "code",
   "execution_count": 7,
   "metadata": {
    "collapsed": false,
    "scrolled": true
   },
   "outputs": [
    {
     "data": {
      "text/plain": [
       "[2, 3, 5, 7, 11, 13, 17, 19, 23, 29]"
      ]
     },
     "execution_count": 7,
     "metadata": {},
     "output_type": "execute_result"
    }
   ],
   "source": [
    "prime3(10)"
   ]
  },
  {
   "cell_type": "markdown",
   "metadata": {},
   "source": [
    "### Speed comparison"
   ]
  },
  {
   "cell_type": "code",
   "execution_count": 9,
   "metadata": {
    "collapsed": false
   },
   "outputs": [
    {
     "name": "stdout",
     "output_type": "stream",
     "text": [
      "10 loops, best of 3: 41.6 ms per loop\n",
      "10 loops, best of 3: 29.6 ms per loop\n",
      "100 loops, best of 3: 2.06 ms per loop\n"
     ]
    }
   ],
   "source": [
    "%timeit prime1(1000)\n",
    "%timeit prime2(1000)\n",
    "%timeit prime3(1000)"
   ]
  },
  {
   "cell_type": "code",
   "execution_count": null,
   "metadata": {
    "collapsed": true
   },
   "outputs": [],
   "source": []
  }
 ],
 "metadata": {
  "kernelspec": {
   "display_name": "Python 2",
   "language": "python",
   "name": "python2"
  },
  "language_info": {
   "codemirror_mode": {
    "name": "ipython",
    "version": 2
   },
   "file_extension": ".py",
   "mimetype": "text/x-python",
   "name": "python",
   "nbconvert_exporter": "python",
   "pygments_lexer": "ipython2",
   "version": "2.7.13"
  }
 },
 "nbformat": 4,
 "nbformat_minor": 0
}
