{
 "cells": [
  {
   "cell_type": "code",
   "execution_count": 1,
   "metadata": {
    "collapsed": false
   },
   "outputs": [],
   "source": [
    "# Import support for Cython\n",
    "import setuptools\n",
    "%load_ext Cython"
   ]
  },
  {
   "cell_type": "markdown",
   "metadata": {},
   "source": [
    "## A Practical Example - Part I"
   ]
  },
  {
   "cell_type": "code",
   "execution_count": 2,
   "metadata": {
    "collapsed": false
   },
   "outputs": [],
   "source": [
    "import numpy as np\n",
    "import matplotlib.pyplot as plt\n",
    "from beam import beam\n",
    "\n",
    "# Parameters\n",
    "E  = 1e8\n",
    "L  = 1.0\n",
    "h0 = 2e-2\n",
    "h1 = 1e-2\n",
    "P0 = 1.0\n",
    "P1 = 2.0\n",
    "I0 = E*h0**3/12\n",
    "\n",
    "# Creating the solver object\n",
    "opts = {\n",
    "    \"boundary\"  : [\"cc\", \"ff\"],\n",
    "    \"length\"    : L,\n",
    "    \"nElem\"     : 1000,\n",
    "    \"modulus\"   : E\n",
    "    }\n",
    "sol = beam.FESolver(**opts)"
   ]
  },
  {
   "cell_type": "code",
   "execution_count": 6,
   "metadata": {
    "collapsed": false
   },
   "outputs": [
    {
     "name": "stdout",
     "output_type": "stream",
     "text": [
      "Update parameters: 0.0000 ms\n",
      "Setup System:      7.0000 ms\n",
      "Solve System:      0.9999 ms\n"
     ]
    },
    {
     "data": {
      "image/png": "[encoded data removed]",
      "text/plain": [
       "<matplotlib.figure.Figure at 0x92f47f0>"
      ]
     },
     "metadata": {},
     "output_type": "display_data"
    }
   ],
   "source": [
    "from beam import npUtils\n",
    "from beam import cyUtils\n",
    "from beam import pcUtils\n",
    "\n",
    "# Constant loading, constant thickness\n",
    "f1 = lambda x: P0/I0/24.0 * x**2 * (x**2 - 4.0*L*x + 6.0*L*L)\n",
    "sol(utils = pcUtils,\n",
    "    load = lambda x: P0*np.ones_like(x),\n",
    "    thickness = [h0])\n",
    "g = sol.plotSolution(sty='b-')\n",
    "plt.plot(sol.coor, f1(sol.coor), 'k:', label='Case 1')\n",
    "\n",
    "plt.show()"
   ]
  },
  {
   "cell_type": "code",
   "execution_count": null,
   "metadata": {
    "collapsed": true
   },
   "outputs": [],
   "source": []
  }
 ],
 "metadata": {
  "kernelspec": {
   "display_name": "Python 2",
   "language": "python",
   "name": "python2"
  },
  "language_info": {
   "codemirror_mode": {
    "name": "ipython",
    "version": 2
   },
   "file_extension": ".py",
   "mimetype": "text/x-python",
   "name": "python",
   "nbconvert_exporter": "python",
   "pygments_lexer": "ipython2",
   "version": "2.7.13"
  }
 },
 "nbformat": 4,
 "nbformat_minor": 0
}
