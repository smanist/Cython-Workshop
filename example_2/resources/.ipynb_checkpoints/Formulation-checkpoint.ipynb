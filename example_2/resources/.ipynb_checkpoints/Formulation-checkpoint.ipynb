{
 "cells": [
  {
   "cell_type": "code",
   "execution_count": 1,
   "metadata": {
    "collapsed": false
   },
   "outputs": [],
   "source": [
    "import sympy as sy\n",
    "import sympy.tensor.array as ar\n",
    "sy.init_printing()\n",
    "eta, x, L= sy.symbols('eta x L')"
   ]
  },
  {
   "cell_type": "markdown",
   "metadata": {},
   "source": [
    "In this notebook, the forumlation of a two-node element for variable stiffness Euler-Bernoulli beam is presented.\n",
    "\n",
    "At each node, the degrees-of-freedom are the deflection and the rotation, which is essentially the slope. The deflection is interpolated using third-order Hermite polynomials."
   ]
  },
  {
   "cell_type": "markdown",
   "metadata": {},
   "source": [
    "The deflection over the element is approximated by,\n",
    "\n",
    "$w(\\eta) = \\sum_{i=1}^4 q_i N_i(\\eta) \\equiv \\mathbf{N}^T\\mathbf{q}$\n",
    "\n",
    "Among the degrees of freedom at nodes 1 and 2, $\\mathbf{q}=[q_1,\\cdots,q_4]^T$, $q_1$ and $q_3$ represent displacement, and $q_2$ and $q_4$ represent rotation (counter clockwise). The shape functions $\\mathbf{N}=[N_1(\\eta),\\cdots,N_4(\\eta)]^T$ are Hermite polynomials, defined over $-1<\\eta<1$. The details are shown below."
   ]
  },
  {
   "cell_type": "code",
   "execution_count": 27,
   "metadata": {
    "collapsed": false
   },
   "outputs": [],
   "source": [
    "N1 = (1-eta)**2*(2+eta)/4\n",
    "N2 = L*(1-eta)**2*(1+eta)/8\n",
    "N3 = (1+eta)**2*(2-eta)/4\n",
    "N4 = L*(1+eta)**2*(eta-1)/8\n",
    "shp = ar.Array([N1, N2, N3, N4])"
   ]
  },
  {
   "cell_type": "code",
   "execution_count": 3,
   "metadata": {
    "collapsed": false
   },
   "outputs": [
    {
     "data": {
      "image/png": "[encoded data removed]",
      "text/latex": [
       "$$\\left [ \\frac{1}{4} \\left(- \\eta + 1\\right)^{2} \\left(\\eta + 2\\right), \\quad \\frac{L}{8} \\left(- \\eta + 1\\right)^{2} \\left(\\eta + 1\\right), \\quad \\frac{1}{4} \\left(- \\eta + 2\\right) \\left(\\eta + 1\\right)^{2}, \\quad \\frac{L}{8} \\left(\\eta - 1\\right) \\left(\\eta + 1\\right)^{2}\\right ]$$"
      ],
      "text/plain": [
       "⎡        2                    2                          2                   2\n",
       "⎢(-η + 1) ⋅(η + 2)  L⋅(-η + 1) ⋅(η + 1)  (-η + 2)⋅(η + 1)   L⋅(η - 1)⋅(η + 1) \n",
       "⎢─────────────────, ───────────────────, ─────────────────, ──────────────────\n",
       "⎣        4                   8                   4                  8         \n",
       "\n",
       "⎤\n",
       "⎥\n",
       "⎥\n",
       "⎦"
      ]
     },
     "execution_count": 3,
     "metadata": {},
     "output_type": "execute_result"
    }
   ],
   "source": [
    "shp.tolist()"
   ]
  },
  {
   "cell_type": "markdown",
   "metadata": {},
   "source": [
    "We start with the energy principle.\n",
    "\n",
    "The strain energy of the beam element is,\n",
    "\n",
    "$U = \\int_0^L \\frac{EI}{2} [w''(x)]^2dx = \\frac{1}{2}\\mathbf{q}^T \\int_0^L EI\\mathbf{N}''\\mathbf{N}''^T dx \\mathbf{q} \\equiv \\frac{1}{2}\\mathbf{q}^T\\mathbf{K}\\mathbf{q}$\n",
    "\n",
    "where $\\mathbf{K}=\\int_0^L EI\\mathbf{N}''\\mathbf{N}''^T dx$ is the element stiffness matrix, $EI$ being the bending stiffness of the beam.\n",
    "\n",
    "The external work due to transverse loading is,\n",
    "\n",
    "$W_E = \\int_0^L p(x)w(x) dx = \\mathbf{q}^T\\int_0^L p(x)\\mathbf{N} dx \\equiv \\mathbf{q}^T\\mathbf{F}$\n",
    "\n",
    "where $\\mathbf{F}=\\int_0^L p(x)\\mathbf{N} dx$ is the nodal loading vector.\n",
    "\n",
    "Applying the principle of minimum potential energy, one obtains the governing equation for one element,\n",
    "\n",
    "$0 = \\delta(U-W_E) = \\delta(\\frac{1}{2}\\mathbf{q}^T\\mathbf{K}\\mathbf{q}-\\mathbf{q}^T\\mathbf{F}) = \\delta\\mathbf{q}^T(\\mathbf{K}\\mathbf{q}-\\mathbf{F}) \\rightarrow \\mathbf{K}\\mathbf{q}=\\mathbf{F}$"
   ]
  },
  {
   "cell_type": "markdown",
   "metadata": {},
   "source": [
    "If $EI$ is constant, we obtain the stiffness matrix for a regular beam element."
   ]
  },
  {
   "cell_type": "code",
   "execution_count": 28,
   "metadata": {
    "collapsed": true
   },
   "outputs": [],
   "source": [
    "jac = 2/L  # d(eta)/dx\n",
    "df1 = sy.diff(shp, eta, 1)*jac\n",
    "df2 = sy.diff(shp, eta, 2)*jac*jac\n",
    "b0 = ar.tensorproduct(df1, df1)\n",
    "k0 = ar.tensorproduct(df2, df2)\n",
    "B0 = b0.applyfunc(lambda f: sy.integrate(f/jac, (eta,-1,1)))\n",
    "K0 = k0.applyfunc(lambda f: sy.integrate(f/jac, (eta,-1,1)))"
   ]
  },
  {
   "cell_type": "code",
   "execution_count": 29,
   "metadata": {
    "collapsed": false
   },
   "outputs": [
    {
     "data": {
      "text/latex": [
       "$$\\left[\\begin{matrix}\\frac{12}{L^{3}} & \\frac{6}{L^{2}} & - \\frac{12}{L^{3}} & \\frac{6}{L^{2}}\\\\\\frac{6}{L^{2}} & \\frac{4}{L} & - \\frac{6}{L^{2}} & \\frac{2}{L}\\\\- \\frac{12}{L^{3}} & - \\frac{6}{L^{2}} & \\frac{12}{L^{3}} & - \\frac{6}{L^{2}}\\\\\\frac{6}{L^{2}} & \\frac{2}{L} & - \\frac{6}{L^{2}} & \\frac{4}{L}\\end{matrix}\\right]$$"
      ],
      "text/plain": [
       "⎡ 12   6    -12   6  ⎤\n",
       "⎢ ──   ──   ────  ── ⎥\n",
       "⎢  3    2     3    2 ⎥\n",
       "⎢ L    L     L    L  ⎥\n",
       "⎢                    ⎥\n",
       "⎢ 6     4   -6     2 ⎥\n",
       "⎢ ──    ─   ───    ─ ⎥\n",
       "⎢  2    L     2    L ⎥\n",
       "⎢ L          L       ⎥\n",
       "⎢                    ⎥\n",
       "⎢-12   -6    12   -6 ⎥\n",
       "⎢────  ───   ──   ───⎥\n",
       "⎢  3     2    3     2⎥\n",
       "⎢ L     L    L     L ⎥\n",
       "⎢                    ⎥\n",
       "⎢ 6     2   -6     4 ⎥\n",
       "⎢ ──    ─   ───    ─ ⎥\n",
       "⎢  2    L     2    L ⎥\n",
       "⎣ L          L       ⎦"
      ]
     },
     "execution_count": 29,
     "metadata": {},
     "output_type": "execute_result"
    }
   ],
   "source": [
    "K0.tomatrix()"
   ]
  },
  {
   "cell_type": "code",
   "execution_count": 20,
   "metadata": {
    "collapsed": false
   },
   "outputs": [
    {
     "data": {
      "text/latex": [
       "$$\\left[\\begin{matrix}\\frac{6}{5 L} & \\frac{1}{10} & - \\frac{6}{5 L} & \\frac{1}{10}\\\\\\frac{1}{10} & \\frac{2 L}{15} & - \\frac{1}{10} & - \\frac{L}{30}\\\\- \\frac{6}{5 L} & - \\frac{1}{10} & \\frac{6}{5 L} & - \\frac{1}{10}\\\\\\frac{1}{10} & - \\frac{L}{30} & - \\frac{1}{10} & \\frac{2 L}{15}\\end{matrix}\\right]$$"
      ],
      "text/plain": [
       "⎡ 6            -6         ⎤\n",
       "⎢───   1/10    ───   1/10 ⎥\n",
       "⎢5⋅L           5⋅L        ⎥\n",
       "⎢                         ⎥\n",
       "⎢       2⋅L           -L  ⎥\n",
       "⎢1/10   ───   -1/10   ─── ⎥\n",
       "⎢        15            30 ⎥\n",
       "⎢                         ⎥\n",
       "⎢-6             6         ⎥\n",
       "⎢───   -1/10   ───   -1/10⎥\n",
       "⎢5⋅L           5⋅L        ⎥\n",
       "⎢                         ⎥\n",
       "⎢       -L            2⋅L ⎥\n",
       "⎢1/10   ───   -1/10   ─── ⎥\n",
       "⎣        30            15 ⎦"
      ]
     },
     "execution_count": 20,
     "metadata": {},
     "output_type": "execute_result"
    }
   ],
   "source": [
    "B0.tomatrix()"
   ]
  },
  {
   "cell_type": "markdown",
   "metadata": {},
   "source": [
    "If $EI$ varies linearly over the element, i.e. $EI(x)=\\frac{1-\\eta}{2}EI_1+\\frac{1+\\eta}{2}EI_2$, the element stiffness matrix $\\mathbf{K}$ is decomposed into two parts, $\\mathbf{K}=EI_1\\mathbf{K}_1+EI_2\\mathbf{K}_2$, and\n",
    "\n",
    "$\\mathbf{K}_1=\\int_0^L \\frac{1-\\eta}{2}\\mathbf{N}''\\mathbf{N}''^T dx$\n",
    "\n",
    "$\\mathbf{K}_2=\\int_0^L \\frac{1+\\eta}{2}\\mathbf{N}''\\mathbf{N}''^T dx$"
   ]
  },
  {
   "cell_type": "code",
   "execution_count": 30,
   "metadata": {
    "collapsed": false
   },
   "outputs": [],
   "source": [
    "K1 = k0.applyfunc(lambda f: sy.integrate(f*(1-eta)/2/jac, (eta,-1,1)))\n",
    "K2 = k0.applyfunc(lambda f: sy.integrate(f*(1+eta)/2/jac, (eta,-1,1)))"
   ]
  },
  {
   "cell_type": "code",
   "execution_count": 31,
   "metadata": {
    "collapsed": false
   },
   "outputs": [
    {
     "data": {
      "text/latex": [
       "$$\\left[\\begin{matrix}\\frac{6}{L^{3}} & \\frac{4}{L^{2}} & - \\frac{6}{L^{3}} & \\frac{2}{L^{2}}\\\\\\frac{4}{L^{2}} & \\frac{3}{L} & - \\frac{4}{L^{2}} & \\frac{1}{L}\\\\- \\frac{6}{L^{3}} & - \\frac{4}{L^{2}} & \\frac{6}{L^{3}} & - \\frac{2}{L^{2}}\\\\\\frac{2}{L^{2}} & \\frac{1}{L} & - \\frac{2}{L^{2}} & \\frac{1}{L}\\end{matrix}\\right]$$"
      ],
      "text/plain": [
       "⎡6    4    -6   2  ⎤\n",
       "⎢──   ──   ───  ── ⎥\n",
       "⎢ 3    2     3   2 ⎥\n",
       "⎢L    L     L   L  ⎥\n",
       "⎢                  ⎥\n",
       "⎢4     3   -4    1 ⎥\n",
       "⎢──    ─   ───   ─ ⎥\n",
       "⎢ 2    L     2   L ⎥\n",
       "⎢L          L      ⎥\n",
       "⎢                  ⎥\n",
       "⎢-6   -4   6    -2 ⎥\n",
       "⎢───  ───  ──   ───⎥\n",
       "⎢  3    2   3     2⎥\n",
       "⎢ L    L   L     L ⎥\n",
       "⎢                  ⎥\n",
       "⎢2     1   -2    1 ⎥\n",
       "⎢──    ─   ───   ─ ⎥\n",
       "⎢ 2    L     2   L ⎥\n",
       "⎣L          L      ⎦"
      ]
     },
     "execution_count": 31,
     "metadata": {},
     "output_type": "execute_result"
    }
   ],
   "source": [
    "K1.tomatrix()"
   ]
  },
  {
   "cell_type": "code",
   "execution_count": 32,
   "metadata": {
    "collapsed": false
   },
   "outputs": [
    {
     "data": {
      "text/latex": [
       "$$\\left[\\begin{matrix}\\frac{6}{L^{3}} & \\frac{2}{L^{2}} & - \\frac{6}{L^{3}} & \\frac{4}{L^{2}}\\\\\\frac{2}{L^{2}} & \\frac{1}{L} & - \\frac{2}{L^{2}} & \\frac{1}{L}\\\\- \\frac{6}{L^{3}} & - \\frac{2}{L^{2}} & \\frac{6}{L^{3}} & - \\frac{4}{L^{2}}\\\\\\frac{4}{L^{2}} & \\frac{1}{L} & - \\frac{4}{L^{2}} & \\frac{3}{L}\\end{matrix}\\right]$$"
      ],
      "text/plain": [
       "⎡6    2    -6   4  ⎤\n",
       "⎢──   ──   ───  ── ⎥\n",
       "⎢ 3    2     3   2 ⎥\n",
       "⎢L    L     L   L  ⎥\n",
       "⎢                  ⎥\n",
       "⎢2     1   -2    1 ⎥\n",
       "⎢──    ─   ───   ─ ⎥\n",
       "⎢ 2    L     2   L ⎥\n",
       "⎢L          L      ⎥\n",
       "⎢                  ⎥\n",
       "⎢-6   -2   6    -4 ⎥\n",
       "⎢───  ───  ──   ───⎥\n",
       "⎢  3    2   3     2⎥\n",
       "⎢ L    L   L     L ⎥\n",
       "⎢                  ⎥\n",
       "⎢4     1   -4    3 ⎥\n",
       "⎢──    ─   ───   ─ ⎥\n",
       "⎢ 2    L     2   L ⎥\n",
       "⎣L          L      ⎦"
      ]
     },
     "execution_count": 32,
     "metadata": {},
     "output_type": "execute_result"
    }
   ],
   "source": [
    "K2.tomatrix()"
   ]
  },
  {
   "cell_type": "markdown",
   "metadata": {},
   "source": [
    "Similar idea, assume $p$ varies linearly over the element, i.e. $p(x)=\\frac{1-\\eta}{2}p_1+\\frac{1+\\eta}{2}p_2$, the nodal loading vector $\\mathbf{F}$ is decomposed into two parts, $\\mathbf{F}=p_1\\mathbf{F}_1+p_2\\mathbf{F}_2$, and\n",
    "\n",
    "$\\mathbf{F}_1=\\int_0^L \\frac{1-\\eta}{2}\\mathbf{N} dx$\n",
    "\n",
    "$\\mathbf{F}_2=\\int_0^L \\frac{1+\\eta}{2}\\mathbf{N} dx$"
   ]
  },
  {
   "cell_type": "code",
   "execution_count": 33,
   "metadata": {
    "collapsed": true
   },
   "outputs": [],
   "source": [
    "F1 = shp.applyfunc(lambda f: sy.integrate(f*(1-eta)/2/jac, (eta,-1,1)))\n",
    "F2 = shp.applyfunc(lambda f: sy.integrate(f*(1+eta)/2/jac, (eta,-1,1)))"
   ]
  },
  {
   "cell_type": "code",
   "execution_count": 34,
   "metadata": {
    "collapsed": false
   },
   "outputs": [
    {
     "data": {
      "image/png": "[encoded data removed]",
      "text/latex": [
       "$$\\left [ \\frac{7 L}{20}, \\quad \\frac{L^{2}}{20}, \\quad \\frac{3 L}{20}, \\quad - \\frac{L^{2}}{30}\\right ]$$"
      ],
      "text/plain": [
       "⎡      2         2 ⎤\n",
       "⎢7⋅L  L   3⋅L  -L  ⎥\n",
       "⎢───, ──, ───, ────⎥\n",
       "⎣ 20  20   20   30 ⎦"
      ]
     },
     "execution_count": 34,
     "metadata": {},
     "output_type": "execute_result"
    }
   ],
   "source": [
    "F1.tolist()"
   ]
  },
  {
   "cell_type": "code",
   "execution_count": 35,
   "metadata": {
    "collapsed": false
   },
   "outputs": [
    {
     "data": {
      "image/png": "[encoded data removed]",
      "text/latex": [
       "$$\\left [ \\frac{3 L}{20}, \\quad \\frac{L^{2}}{30}, \\quad \\frac{7 L}{20}, \\quad - \\frac{L^{2}}{20}\\right ]$$"
      ],
      "text/plain": [
       "⎡      2         2 ⎤\n",
       "⎢3⋅L  L   7⋅L  -L  ⎥\n",
       "⎢───, ──, ───, ────⎥\n",
       "⎣ 20  30   20   20 ⎦"
      ]
     },
     "execution_count": 35,
     "metadata": {},
     "output_type": "execute_result"
    }
   ],
   "source": [
    "F2.tolist()"
   ]
  }
 ],
 "metadata": {
  "kernelspec": {
   "display_name": "Python 2",
   "language": "python",
   "name": "python2"
  },
  "language_info": {
   "codemirror_mode": {
    "name": "ipython",
    "version": 2
   },
   "file_extension": ".py",
   "mimetype": "text/x-python",
   "name": "python",
   "nbconvert_exporter": "python",
   "pygments_lexer": "ipython2",
   "version": "2.7.13"
  }
 },
 "nbformat": 4,
 "nbformat_minor": 2
}
