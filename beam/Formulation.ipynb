{
 "cells": [
  {
   "cell_type": "code",
   "execution_count": 1,
   "metadata": {
    "collapsed": false
   },
   "outputs": [],
   "source": [
    "import sympy as sy\n",
    "import sympy.tensor.array as ar\n",
    "sy.init_printing()\n",
    "eta, x, L= sy.symbols('eta x L')"
   ]
  },
  {
   "cell_type": "markdown",
   "metadata": {},
   "source": [
    "The shape functions."
   ]
  },
  {
   "cell_type": "code",
   "execution_count": 3,
   "metadata": {
    "collapsed": false
   },
   "outputs": [],
   "source": [
    "eta = 2*x/L-1\n",
    "N1 = (1-eta)**2*(2+eta)/4\n",
    "M1 = L*(1-eta)**2*(1+eta)/8\n",
    "N2 = (1+eta)**2*(2-eta)/4\n",
    "M2 = L*(1+eta)**2*(eta-1)/8\n",
    "shp = ar.Array([N1, M1, N2, M2])\n",
    "dif = sy.diff(shp, x, 2)"
   ]
  },
  {
   "cell_type": "markdown",
   "metadata": {},
   "source": [
    "The integral."
   ]
  },
  {
   "cell_type": "code",
   "execution_count": 17,
   "metadata": {
    "collapsed": false
   },
   "outputs": [],
   "source": [
    "m0 = ar.tensorproduct(dif, dif)\n",
    "K1 = m0.applyfunc(lambda f: sy.integrate(f*(1-x/L), (x,0,L)))\n",
    "K2 = m0.applyfunc(lambda f: sy.integrate(f*(x/L), (x,0,L)))"
   ]
  },
  {
   "cell_type": "code",
   "execution_count": 18,
   "metadata": {
    "collapsed": false
   },
   "outputs": [
    {
     "data": {
      "text/latex": [
       "$$\\left[\\begin{matrix}\\frac{6}{L^{3}} & \\frac{4}{L^{2}} & - \\frac{6}{L^{3}} & \\frac{2}{L^{2}}\\\\\\frac{4}{L^{2}} & \\frac{3}{L} & - \\frac{4}{L^{2}} & \\frac{1}{L}\\\\- \\frac{6}{L^{3}} & - \\frac{4}{L^{2}} & \\frac{6}{L^{3}} & - \\frac{2}{L^{2}}\\\\\\frac{2}{L^{2}} & \\frac{1}{L} & - \\frac{2}{L^{2}} & \\frac{1}{L}\\end{matrix}\\right]$$"
      ],
      "text/plain": [
       "⎡6    4    -6   2  ⎤\n",
       "⎢──   ──   ───  ── ⎥\n",
       "⎢ 3    2     3   2 ⎥\n",
       "⎢L    L     L   L  ⎥\n",
       "⎢                  ⎥\n",
       "⎢4     3   -4    1 ⎥\n",
       "⎢──    ─   ───   ─ ⎥\n",
       "⎢ 2    L     2   L ⎥\n",
       "⎢L          L      ⎥\n",
       "⎢                  ⎥\n",
       "⎢-6   -4   6    -2 ⎥\n",
       "⎢───  ───  ──   ───⎥\n",
       "⎢  3    2   3     2⎥\n",
       "⎢ L    L   L     L ⎥\n",
       "⎢                  ⎥\n",
       "⎢2     1   -2    1 ⎥\n",
       "⎢──    ─   ───   ─ ⎥\n",
       "⎢ 2    L     2   L ⎥\n",
       "⎣L          L      ⎦"
      ]
     },
     "execution_count": 18,
     "metadata": {},
     "output_type": "execute_result"
    }
   ],
   "source": [
    "K1.tomatrix()"
   ]
  },
  {
   "cell_type": "code",
   "execution_count": 19,
   "metadata": {
    "collapsed": false
   },
   "outputs": [
    {
     "data": {
      "text/latex": [
       "$$\\left[\\begin{matrix}\\frac{6}{L^{3}} & \\frac{2}{L^{2}} & - \\frac{6}{L^{3}} & \\frac{4}{L^{2}}\\\\\\frac{2}{L^{2}} & \\frac{1}{L} & - \\frac{2}{L^{2}} & \\frac{1}{L}\\\\- \\frac{6}{L^{3}} & - \\frac{2}{L^{2}} & \\frac{6}{L^{3}} & - \\frac{4}{L^{2}}\\\\\\frac{4}{L^{2}} & \\frac{1}{L} & - \\frac{4}{L^{2}} & \\frac{3}{L}\\end{matrix}\\right]$$"
      ],
      "text/plain": [
       "⎡6    2    -6   4  ⎤\n",
       "⎢──   ──   ───  ── ⎥\n",
       "⎢ 3    2     3   2 ⎥\n",
       "⎢L    L     L   L  ⎥\n",
       "⎢                  ⎥\n",
       "⎢2     1   -2    1 ⎥\n",
       "⎢──    ─   ───   ─ ⎥\n",
       "⎢ 2    L     2   L ⎥\n",
       "⎢L          L      ⎥\n",
       "⎢                  ⎥\n",
       "⎢-6   -2   6    -4 ⎥\n",
       "⎢───  ───  ──   ───⎥\n",
       "⎢  3    2   3     2⎥\n",
       "⎢ L    L   L     L ⎥\n",
       "⎢                  ⎥\n",
       "⎢4     1   -4    3 ⎥\n",
       "⎢──    ─   ───   ─ ⎥\n",
       "⎢ 2    L     2   L ⎥\n",
       "⎣L          L      ⎦"
      ]
     },
     "execution_count": 19,
     "metadata": {},
     "output_type": "execute_result"
    }
   ],
   "source": [
    "K2.tomatrix()"
   ]
  },
  {
   "cell_type": "code",
   "execution_count": 12,
   "metadata": {
    "collapsed": false
   },
   "outputs": [],
   "source": [
    "F0 = shp.applyfunc(lambda f: sy.integrate(f*(1-x/L), (x,0,L)))\n",
    "F1 = shp.applyfunc(lambda f: sy.integrate(f*(x/L), (x,0,L)))"
   ]
  },
  {
   "cell_type": "code",
   "execution_count": 14,
   "metadata": {
    "collapsed": false
   },
   "outputs": [
    {
     "data": {
      "image/png": "[encoded data removed]",
      "text/latex": [
       "$$\\left [ \\frac{7 L}{20}, \\quad \\frac{L^{2}}{20}, \\quad \\frac{3 L}{20}, \\quad - \\frac{L^{2}}{30}\\right ]$$"
      ],
      "text/plain": [
       "⎡      2         2 ⎤\n",
       "⎢7⋅L  L   3⋅L  -L  ⎥\n",
       "⎢───, ──, ───, ────⎥\n",
       "⎣ 20  20   20   30 ⎦"
      ]
     },
     "execution_count": 14,
     "metadata": {},
     "output_type": "execute_result"
    }
   ],
   "source": [
    "F0.tolist()"
   ]
  },
  {
   "cell_type": "code",
   "execution_count": 16,
   "metadata": {
    "collapsed": false
   },
   "outputs": [
    {
     "data": {
      "image/png": "[encoded data removed]",
      "text/latex": [
       "$$\\left [ \\frac{3 L}{20}, \\quad \\frac{L^{2}}{30}, \\quad \\frac{7 L}{20}, \\quad - \\frac{L^{2}}{20}\\right ]$$"
      ],
      "text/plain": [
       "⎡      2         2 ⎤\n",
       "⎢3⋅L  L   7⋅L  -L  ⎥\n",
       "⎢───, ──, ───, ────⎥\n",
       "⎣ 20  30   20   20 ⎦"
      ]
     },
     "execution_count": 16,
     "metadata": {},
     "output_type": "execute_result"
    }
   ],
   "source": [
    "F1.tolist()"
   ]
  }
 ],
 "metadata": {
  "kernelspec": {
   "display_name": "Python 2",
   "language": "python",
   "name": "python2"
  },
  "language_info": {
   "codemirror_mode": {
    "name": "ipython",
    "version": 2
   },
   "file_extension": ".py",
   "mimetype": "text/x-python",
   "name": "python",
   "nbconvert_exporter": "python",
   "pygments_lexer": "ipython2",
   "version": "2.7.13"
  }
 },
 "nbformat": 4,
 "nbformat_minor": 2
}
