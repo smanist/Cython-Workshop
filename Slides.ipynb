{
 "cells": [
  {
   "cell_type": "code",
   "execution_count": 1,
   "metadata": {
    "collapsed": true,
    "slideshow": {
     "slide_type": "skip"
    }
   },
   "outputs": [],
   "source": [
    "import numpy as np"
   ]
  },
  {
   "cell_type": "markdown",
   "metadata": {
    "slideshow": {
     "slide_type": "slide"
    }
   },
   "source": [
    "# Extending Python Using Cython\n",
    "\n",
    "Daning Huang"
   ]
  },
  {
   "cell_type": "markdown",
   "metadata": {
    "collapsed": true,
    "slideshow": {
     "slide_type": "slide"
    }
   },
   "source": [
    "## Instructions for Installation\n",
    "\n",
    "### Using PyPI (Preferred for Linux/Mac)\n",
    "1. Setup the `pip` tool (https://pip.pypa.io/en/stable/installing/)\n",
    "2. In shell, run\n",
    ">`[sudo] pip install Cython`\n",
    "\n",
    "### Using Anaconda (Preferred for Windows)\n",
    "1. Download the Anaconda package [Python 2.7 64-bit] (https://www.continuum.io/downloads)\n",
    "2. Download the Microsoft Visual C++ Compiler for Python (https://www.microsoft.com/en-us/download/details.aspx?id=44266)\n",
    "3. Open the Test_Cython.ipynb to check if Cython works."
   ]
  },
  {
   "cell_type": "markdown",
   "metadata": {
    "slideshow": {
     "slide_type": "slide"
    }
   },
   "source": [
    "## First, let's consider several scenarios..."
   ]
  },
  {
   "cell_type": "markdown",
   "metadata": {
    "slideshow": {
     "slide_type": "subslide"
    }
   },
   "source": [
    "### Theano/Abaqus/SU2/... - Best of both worlds\n",
    "\n",
    "Combining flexibility of Python and efficiency of other languages.\n",
    "\n",
    "Access existing code from legacy, low-level or high-performance libraries and applications."
   ]
  },
  {
   "cell_type": "markdown",
   "metadata": {
    "slideshow": {
     "slide_type": "subslide"
    }
   },
   "source": [
    "### OpenRAVE - Breaking performance bottleneck\n",
    "\n",
    "Using C extension to accelerate the critical part of a Python code."
   ]
  },
  {
   "cell_type": "markdown",
   "metadata": {
    "slideshow": {
     "slide_type": "subslide"
    }
   },
   "source": [
    "### Fluid-Structural-Thermal-Interaction - 1+1+1>3\n",
    "\n",
    "Python as a glue language"
   ]
  },
  {
   "cell_type": "markdown",
   "metadata": {
    "slideshow": {
     "slide_type": "slide"
    }
   },
   "source": [
    "## Cython: C-Extensions for Python\n",
    "### Nearly-automatic conversion from Python to C\n",
    "### Native integration with C/C++ code"
   ]
  },
  {
   "cell_type": "markdown",
   "metadata": {},
   "source": [
    ".py -(CPython Compiler)- byte code/.pyc -(CPython Interpreter)- Machine code\n",
    "\n",
    ".pyx -(Cython)- .c -(C Compiler)- Machine code\n",
    "\n",
    ".c -(C Compiler)- Machine Code\n",
    "\n",
    "\"分かりますか？\"\n",
    "\"Do you understand?\"\n",
    "\"你识得唔识得噶？\""
   ]
  }
 ],
 "metadata": {
  "celltoolbar": "Slideshow",
  "kernelspec": {
   "display_name": "Python 2",
   "language": "python",
   "name": "python2"
  },
  "language_info": {
   "codemirror_mode": {
    "name": "ipython",
    "version": 2
   },
   "file_extension": ".py",
   "mimetype": "text/x-python",
   "name": "python",
   "nbconvert_exporter": "python",
   "pygments_lexer": "ipython2",
   "version": "2.7.13"
  }
 },
 "nbformat": 4,
 "nbformat_minor": 2
}
