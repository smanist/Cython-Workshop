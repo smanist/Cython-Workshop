{
 "cells": [
  {
   "cell_type": "code",
   "execution_count": 1,
   "metadata": {
    "collapsed": true,
    "slideshow": {
     "slide_type": "skip"
    }
   },
   "outputs": [],
   "source": [
    "import numpy as np\n",
    "\n",
    "# jupyter nbconvert --to slides Slides.ipynb --post serve"
   ]
  },
  {
   "cell_type": "markdown",
   "metadata": {
    "slideshow": {
     "slide_type": "slide"
    }
   },
   "source": [
    "# Extending Python Using Cython\n",
    "\n",
    "Daning Huang"
   ]
  },
  {
   "cell_type": "markdown",
   "metadata": {
    "collapsed": true,
    "slideshow": {
     "slide_type": "slide"
    }
   },
   "source": [
    "## Instructions for Installation\n",
    "\n",
    "### Using PyPI (Preferred for Linux/Mac)\n",
    "1. Setup the `pip` tool (https://pip.pypa.io/en/stable/installing/)\n",
    "2. In shell, run\n",
    ">`[sudo] pip install Cython`\n",
    "\n",
    "To test PyPI-based Cython:\n",
    "1. Enter `test` folder and make.\n",
    "2. If correct, you will see\n",
    ">`My answer is 42!`\n",
    "\n",
    "### Using Anaconda (Preferred for Windows)\n",
    "1. Download the Anaconda package [Python 2.7 64-bit] (https://www.continuum.io/downloads)\n",
    "2. Download the Microsoft Visual C++ Compiler for Python (https://www.microsoft.com/en-us/download/details.aspx?id=44266)\n",
    "\n",
    "To test Anaconda:\n",
    "1. Open and run the file ./test/Test_Cython.ipynb.\n",
    "2. If correct, you will see\n",
    ">`My answer is 42!`"
   ]
  },
  {
   "cell_type": "markdown",
   "metadata": {
    "slideshow": {
     "slide_type": "slide"
    }
   },
   "source": [
    "## First, let's consider several scenarios..."
   ]
  },
  {
   "cell_type": "markdown",
   "metadata": {
    "slideshow": {
     "slide_type": "subslide"
    }
   },
   "source": [
    "### TensorFlow - Best of both worlds\n",
    "\n",
    "Combining flexibility of Python and efficiency of other languages.\n",
    "\n",
    "Access existing code from legacy, low-level or high-performance libraries and applications."
   ]
  },
  {
   "cell_type": "markdown",
   "metadata": {
    "slideshow": {
     "slide_type": "subslide"
    }
   },
   "source": [
    "### OpenRAVE - Breaking performance bottleneck\n",
    "\n",
    "Using C/C++ extension to accelerate the critical part of a Python code.\n",
    "\n",
    "[img: results]"
   ]
  },
  {
   "cell_type": "markdown",
   "metadata": {
    "slideshow": {
     "slide_type": "subslide"
    }
   },
   "source": [
    "### Fluid-Structural-Thermal-Interaction - 1+1+1>3\n",
    "\n",
    "Python as a glue language\n",
    "\n",
    "[gif: results]"
   ]
  },
  {
   "cell_type": "markdown",
   "metadata": {
    "slideshow": {
     "slide_type": "slide"
    }
   },
   "source": [
    "## Outline for today\n",
    "1. Introducing Cython\n",
    "2. A hands-on example\n",
    "3. Mechanisms behind Cython\n",
    "4. A practical example: Structural optimization\n",
    "5. Concluding remarks"
   ]
  },
  {
   "cell_type": "markdown",
   "metadata": {
    "slideshow": {
     "slide_type": "slide"
    }
   },
   "source": [
    "## Cython: C-Extensions for Python\n",
    "### Nearly-automatic conversion from Python to C\n",
    "### Native integration with C/C++ code"
   ]
  },
  {
   "cell_type": "markdown",
   "metadata": {
    "slideshow": {
     "slide_type": "subslide"
    }
   },
   "source": [
    "Python: **.py** -(CPython Compiler)- **byte code/.pyc** -(CPython Interpreter)- **Machine code**"
   ]
  },
  {
   "cell_type": "markdown",
   "metadata": {
    "slideshow": {
     "slide_type": "fragment"
    }
   },
   "source": [
    "Cython: **.pyx** -(Cython)- **.c** -(C Compiler)- **Machine code**"
   ]
  },
  {
   "cell_type": "markdown",
   "metadata": {
    "slideshow": {
     "slide_type": "fragment"
    }
   },
   "source": [
    "C: **.c** -(C Compiler)- **Machine Code**"
   ]
  },
  {
   "cell_type": "markdown",
   "metadata": {
    "slideshow": {
     "slide_type": "fragment"
    }
   },
   "source": [
    "\"分かりますか？\" $\\rightarrow$ \"Do you understand?\" $\\rightarrow$ \"识得唔识得噶？\""
   ]
  },
  {
   "cell_type": "markdown",
   "metadata": {
    "collapsed": true,
    "slideshow": {
     "slide_type": "slide"
    }
   },
   "source": [
    "## A Hands-on Example\n",
    "### Problem\n",
    "- Input: $N$\n",
    "- Goal: Find the first $N$ prime numbers"
   ]
  },
  {
   "cell_type": "markdown",
   "metadata": {
    "collapsed": true,
    "slideshow": {
     "slide_type": "fragment"
    }
   },
   "source": [
    "Let's switch to the first example.\n",
    "\n",
    "- Anaconda user: example_1/example_1.ipynb\n",
    "- PyPI user: example_1/example_1.py"
   ]
  },
  {
   "cell_type": "markdown",
   "metadata": {
    "slideshow": {
     "slide_type": "fragment"
    }
   },
   "source": [
    "### Recap\n",
    "- 2x faster by doing nothing\n",
    "- 20x faster by adding some C types (A few lines!)"
   ]
  },
  {
   "cell_type": "markdown",
   "metadata": {
    "slideshow": {
     "slide_type": "slide"
    }
   },
   "source": [
    "## The Mechanisms Behind Cython"
   ]
  },
  {
   "cell_type": "markdown",
   "metadata": {
    "slideshow": {
     "slide_type": "fragment"
    }
   },
   "source": [
    "### PyObject v.s. Raw buffer\n",
    "[img: loop in python]"
   ]
  },
  {
   "cell_type": "markdown",
   "metadata": {
    "slideshow": {
     "slide_type": "fragment"
    }
   },
   "source": [
    "[img: loop in c]"
   ]
  },
  {
   "cell_type": "markdown",
   "metadata": {
    "slideshow": {
     "slide_type": "fragment"
    }
   },
   "source": [
    "### The Global Interpretation Lock\n",
    "[img: GIL]"
   ]
  },
  {
   "cell_type": "markdown",
   "metadata": {
    "slideshow": {
     "slide_type": "slide"
    }
   },
   "source": [
    "## A Practical Example - Part I\n",
    "### Problem\n",
    "- Input: Distribution of beam thickness $h(x)$ and transverse loading $p(x)$.\n",
    "- Goal: Find the beam deflection\n",
    "\n",
    "[img: A beam with deflection]"
   ]
  },
  {
   "cell_type": "markdown",
   "metadata": {
    "slideshow": {
     "slide_type": "subslide"
    }
   },
   "source": [
    "### Approach - Finite element\n",
    "#### The beam element\n",
    "$$\n",
    "\\begin{bmatrix}\n",
    "K_{11} & K_{12} & K_{13} & K_{14} \\\\\n",
    "K_{21} & K_{22} & K_{23} & K_{24} \\\\\n",
    "K_{31} & K_{32} & K_{33} & K_{34} \\\\\n",
    "K_{41} & K_{42} & K_{43} & K_{44}\n",
    "\\end{bmatrix}\n",
    "\\begin{bmatrix}\n",
    "w_1 \\\\ \\phi_1 \\\\ w_2 \\\\ \\phi_2\n",
    "\\end{bmatrix}=\n",
    "\\begin{bmatrix}\n",
    "F_1 \\\\ M_1 \\\\ F_2 \\\\ M_2\n",
    "\\end{bmatrix}\n",
    "$$\n",
    "\n",
    "[img: A beam element]"
   ]
  },
  {
   "cell_type": "markdown",
   "metadata": {
    "slideshow": {
     "slide_type": "subslide"
    }
   },
   "source": [
    "#### Assembling the global matrix\n",
    "\n",
    "[img: The mesh of the beam]\n",
    "\n",
    "[img: The shape of global matrix]"
   ]
  },
  {
   "cell_type": "markdown",
   "metadata": {
    "slideshow": {
     "slide_type": "subslide"
    }
   },
   "source": [
    "#### Solving the linear system\n",
    "$$\n",
    "\\mathbf{K}\\mathbf{x} = \\mathbf{F}\n",
    "$$\n",
    "where $\\mathbf{K}$ is *symmetric* and *banded*."
   ]
  },
  {
   "cell_type": "markdown",
   "metadata": {
    "slideshow": {
     "slide_type": "fragment"
    }
   },
   "source": [
    "1. Cholesky Decomposition:\n",
    "$$\\mathbf{K}=\\mathbf{L}\\mathbf{L}^T$$\n",
    "2. First back substitution:\n",
    "$$\\mathbf{L}\\mathbf{y} = \\mathbf{F}$$\n",
    "3. Second back substitution:\n",
    "$$\\mathbf{L}^T\\mathbf{x} = \\mathbf{y}$$"
   ]
  },
  {
   "cell_type": "markdown",
   "metadata": {
    "slideshow": {
     "slide_type": "slide"
    }
   },
   "source": [
    "### Implementation\n",
    "Let's switch to the code\n",
    "\n",
    "- Anaconda user: example_2/example_2.ipynb\n",
    "- PyPI user: example_2/example_2.py"
   ]
  }
 ],
 "metadata": {
  "celltoolbar": "Slideshow",
  "kernelspec": {
   "display_name": "Python 2",
   "language": "python",
   "name": "python2"
  },
  "language_info": {
   "codemirror_mode": {
    "name": "ipython",
    "version": 2
   },
   "file_extension": ".py",
   "mimetype": "text/x-python",
   "name": "python",
   "nbconvert_exporter": "python",
   "pygments_lexer": "ipython2",
   "version": "2.7.13"
  }
 },
 "nbformat": 4,
 "nbformat_minor": 2
}
